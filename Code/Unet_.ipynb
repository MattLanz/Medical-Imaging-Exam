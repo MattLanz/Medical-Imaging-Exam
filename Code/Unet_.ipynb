{
  "nbformat": 4,
  "nbformat_minor": 0,
  "metadata": {
    "colab": {
      "provenance": [],
      "collapsed_sections": [
        "GSbvbZrtU8eD"
      ],
      "gpuType": "T4"
    },
    "kernelspec": {
      "name": "python3",
      "display_name": "Python 3"
    },
    "language_info": {
      "name": "python"
    },
    "accelerator": "GPU",
    "gpuClass": "standard"
  },
  "cells": [
    {
      "cell_type": "code",
      "execution_count": null,
      "metadata": {
        "colab": {
          "base_uri": "https://localhost:8080/"
        },
        "outputId": "a459ef1e-712d-482c-8f91-6d2e79450e7c",
        "id": "VkzcrnMjd5yK"
      },
      "outputs": [
        {
          "output_type": "stream",
          "name": "stdout",
          "text": [
            "Looking in indexes: https://pypi.org/simple, https://us-python.pkg.dev/colab-wheels/public/simple/\n",
            "Requirement already satisfied: pyradiomics in /usr/local/lib/python3.10/dist-packages (3.0.1)\n",
            "Requirement already satisfied: numpy>=1.9.2 in /usr/local/lib/python3.10/dist-packages (from pyradiomics) (1.22.4)\n",
            "Requirement already satisfied: SimpleITK>=0.9.1 in /usr/local/lib/python3.10/dist-packages (from pyradiomics) (2.2.1)\n",
            "Requirement already satisfied: PyWavelets>=0.4.0 in /usr/local/lib/python3.10/dist-packages (from pyradiomics) (1.4.1)\n",
            "Requirement already satisfied: pykwalify>=1.6.0 in /usr/local/lib/python3.10/dist-packages (from pyradiomics) (1.8.0)\n",
            "Requirement already satisfied: six>=1.10.0 in /usr/local/lib/python3.10/dist-packages (from pyradiomics) (1.16.0)\n",
            "Requirement already satisfied: docopt>=0.6.2 in /usr/local/lib/python3.10/dist-packages (from pykwalify>=1.6.0->pyradiomics) (0.6.2)\n",
            "Requirement already satisfied: python-dateutil>=2.8.0 in /usr/local/lib/python3.10/dist-packages (from pykwalify>=1.6.0->pyradiomics) (2.8.2)\n",
            "Requirement already satisfied: ruamel.yaml>=0.16.0 in /usr/local/lib/python3.10/dist-packages (from pykwalify>=1.6.0->pyradiomics) (0.17.26)\n",
            "Requirement already satisfied: ruamel.yaml.clib>=0.2.7 in /usr/local/lib/python3.10/dist-packages (from ruamel.yaml>=0.16.0->pykwalify>=1.6.0->pyradiomics) (0.2.7)\n"
          ]
        }
      ],
      "source": [
        "!pip install pyradiomics"
      ]
    },
    {
      "cell_type": "code",
      "source": [
        "import matplotlib.pyplot as plt # plotting\n",
        "import pandas as pd # DB\n",
        "from radiomics import featureextractor\n",
        "import nibabel as nib\n",
        "import os\n",
        "import glob\n",
        "import numpy as np\n",
        "from shutil import copyfile, copytree\n",
        "import pickle\n",
        "\n",
        "# you don't need this outside Google COLAB\n",
        "\n",
        "#!pip install -U tensorboard-plugin-profile\n",
        "\n",
        "#set up imports\n",
        "#%tensorflow_version 2.x \n",
        "# previousl line only needed when working in google COLAB\n",
        "import matplotlib\n",
        "#matplotlib.use('Agg')\n",
        "import glob\n",
        "import os\n",
        "import numpy as np\n",
        "import nibabel as nib\n",
        "import tensorflow as tf\n",
        "from tensorflow.keras import backend as K\n",
        "from tensorflow.keras.models import Model\n",
        "from tensorflow.keras.layers import Input,Conv2D, Activation, BatchNormalization, MaxPooling2D, concatenate, Conv2DTranspose, UpSampling2D, SeparableConv2D\n",
        "from tensorflow.keras.layers import ZeroPadding2D,Add,ReLU,AveragePooling2D\n",
        "from tensorflow.keras import metrics as mtt\n",
        "from tensorflow.keras import optimizers\n",
        "import math\n",
        "import matplotlib.pyplot as plt"
      ],
      "metadata": {
        "id": "dk1c2Tdkd5yL"
      },
      "execution_count": null,
      "outputs": []
    },
    {
      "cell_type": "markdown",
      "source": [
        "# Salta se hai già le variabili pickle"
      ],
      "metadata": {
        "id": "GSbvbZrtU8eD"
      }
    },
    {
      "cell_type": "code",
      "source": [
        "import gdown\n",
        "\n",
        "!gdown \"19jGXLL7L67U2BhXT-8ZSHMWpJdlAZkfO&confirm=True\"\n",
        "\n",
        "import zipfile\n",
        "with zipfile.ZipFile(\"brats.zip\", 'r') as zip_ref:\n",
        "    zip_ref.extractall(\"\")"
      ],
      "metadata": {
        "colab": {
          "base_uri": "https://localhost:8080/"
        },
        "outputId": "d9e3ba07-d561-4d29-ea76-b2573ef896b6",
        "id": "w0GcH0KLd5yM"
      },
      "execution_count": null,
      "outputs": [
        {
          "output_type": "stream",
          "name": "stdout",
          "text": [
            "Downloading...\n",
            "From: https://drive.google.com/uc?id=19jGXLL7L67U2BhXT-8ZSHMWpJdlAZkfO&confirm=True\n",
            "To: /content/brats.zip\n",
            "100% 5.49G/5.49G [01:10<00:00, 77.6MB/s]\n"
          ]
        }
      ]
    },
    {
      "cell_type": "code",
      "source": [
        "files = []\n",
        "\n",
        "for root in os.listdir(\"content/GBM\"):\n",
        "  files.append(os.path.join(\"content/GBM\",root))\n",
        "\n",
        "for root in os.listdir(\"content/LGG\"):\n",
        "  files.append(os.path.join(\"content/LGG\",root))"
      ],
      "metadata": {
        "id": "CylZovSHvPWz"
      },
      "execution_count": null,
      "outputs": []
    },
    {
      "cell_type": "markdown",
      "source": [
        "Magnetic Resonance Imaging (MRI) is commonly used imaging techniques for capturing images of brain tumors.By conﬁguring the MRI scanner diﬀerent modalities can be captured, such as T1-weighted (T1), T1-Post contrast-enhanced (T1ce), T2-weighted (T2), and T2-weighted ﬂuid-attenuated inversion recovery (Flair). T1 is good for seg-mentation of tumor from healthy brain tissue. T1ce has higher visibility of the tumor boundaries. In T2 the edema(ﬂuid) around the brain tumor is visible. And the Flair is suitable for identifying edema region from cerebrospinalﬂuid [3]. The MRI images can be viewed in three dimensions (Sagittal, Axial, and Coronal), which helps the medicalexperts in examining the tumors [4]. Enhancing tumor shows hyper-intensity mostly in T1-weighted. "
      ],
      "metadata": {
        "id": "VegwS4kA267W"
      }
    },
    {
      "cell_type": "code",
      "source": [
        "channels = [\"t1\",\"t1ce\",\"t2\",\"flair\"]\n",
        "\n",
        "nPat = 50\n",
        "nChan = len(channels)"
      ],
      "metadata": {
        "id": "25F2JeeX-tG8"
      },
      "execution_count": null,
      "outputs": []
    },
    {
      "cell_type": "code",
      "source": [
        "import random\n",
        "random.seed(12345)\n",
        "random.shuffle(files)"
      ],
      "metadata": {
        "id": "6vT-wnUTLvCf"
      },
      "execution_count": null,
      "outputs": []
    },
    {
      "cell_type": "code",
      "source": [
        "for path in files:\n",
        "  count = len(os.listdir(path))\n",
        "  if count < 5:\n",
        "    print(path)"
      ],
      "metadata": {
        "id": "elogyoY-aS_X"
      },
      "execution_count": null,
      "outputs": []
    },
    {
      "cell_type": "code",
      "source": [
        "immV = np.zeros((nPat,120,120,77,nChan),dtype=np.float32)\n",
        "segV = np.zeros((nPat,120,120,77,1),dtype=np.float32)"
      ],
      "metadata": {
        "id": "y-KCwSMAxj6P"
      },
      "execution_count": null,
      "outputs": []
    },
    {
      "cell_type": "code",
      "source": [
        "for id,filepath in enumerate(files[:nPat]):\n",
        "    for x, channel in enumerate(channels):\n",
        "        head = nib.load(os.path.join(filepath,str(channel + \".nii.gz\")))\n",
        "        temp = head.get_fdata(dtype=np.float32)\n",
        "        temp = temp[:,:,1:].reshape((2,120,2,120,2,77),order='F')\n",
        "        immV[id,:,:,:,x] = np.mean(np.mean(np.mean(temp,axis=-2),axis=-3),axis=0)\n",
        "    head = nib.load(os.path.join(filepath, \"truth.nii.gz\"))\n",
        "    temp = head.get_fdata(dtype=np.float32)\n",
        "    temp = temp[:,:,1:].reshape((2,120,2,120,2,77),order='F') \n",
        "    segV[id,:,:,:,0]= np.max(np.max(np.max(temp,axis=-2),axis=-3),axis=0)"
      ],
      "metadata": {
        "id": "ykko1F3s9F2H"
      },
      "execution_count": null,
      "outputs": []
    },
    {
      "cell_type": "code",
      "source": [
        "rnge = np.zeros((immV.shape[0],nChan),dtype=np.float32)\n",
        "for sub in range(immV.shape[0]):\n",
        "  for chan in range(nChan):\n",
        "    temp = np.squeeze(immV[sub,:,:,:,chan])\n",
        "    soglia = np.percentile(temp,1)\n",
        "    rnge[sub,chan]=np.percentile(temp[temp>soglia],50)\n",
        "rnge = rnge.reshape((immV.shape[0],1,1,1,nChan))   \n",
        "immV = (immV-0.5*rnge)/rnge"
      ],
      "metadata": {
        "id": "HT5uDw9tRCNT"
      },
      "execution_count": null,
      "outputs": []
    },
    {
      "cell_type": "code",
      "source": [
        "plt.figure()\n",
        "plt.imshow(immV[2,35,:,:,0],vmin=-0.3,vmax=1.0,cmap='Greys_r')\n",
        "plt.contour(segV[2,35,:,:,0],[0.5,1.5,2.5])\n",
        "plt.axis('off')"
      ],
      "metadata": {
        "colab": {
          "base_uri": "https://localhost:8080/",
          "height": 423
        },
        "id": "HLrZvVL-WK4C",
        "outputId": "9689b319-5604-4e03-b8b8-bec1fda036fa"
      },
      "execution_count": null,
      "outputs": [
        {
          "output_type": "execute_result",
          "data": {
            "text/plain": [
              "(-0.5, 76.5, 119.5, -0.5)"
            ]
          },
          "metadata": {},
          "execution_count": 59
        },
        {
          "output_type": "display_data",
          "data": {
            "text/plain": [
              "<Figure size 640x480 with 1 Axes>"
            ],
            "image/png": "[encoded data removed]"
          },
          "metadata": {}
        }
      ]
    },
    {
      "cell_type": "code",
      "source": [
        "# Open a file and use dump()\n",
        "with open('immV.pkl', 'wb') as file:     \n",
        "    # A new file will be created\n",
        "    pickle.dump(immV, file)"
      ],
      "metadata": {
        "id": "PX6QuhY6ReON"
      },
      "execution_count": null,
      "outputs": []
    },
    {
      "cell_type": "code",
      "source": [
        "del immV\n",
        "del rnge"
      ],
      "metadata": {
        "id": "26jR3mI3Xf-W"
      },
      "execution_count": null,
      "outputs": []
    },
    {
      "cell_type": "code",
      "source": [
        "with open('segV.pkl', 'wb') as file: \n",
        "    # A new file will be created\n",
        "    pickle.dump(segV, file)"
      ],
      "metadata": {
        "id": "B7fILwL-h3vQ"
      },
      "execution_count": null,
      "outputs": []
    },
    {
      "cell_type": "code",
      "source": [
        "del segV"
      ],
      "metadata": {
        "id": "EIsjuj9iXhSc"
      },
      "execution_count": null,
      "outputs": []
    },
    {
      "cell_type": "code",
      "source": [
        "from google.colab import drive\n",
        "drive.mount('/content/drive')"
      ],
      "metadata": {
        "colab": {
          "base_uri": "https://localhost:8080/"
        },
        "id": "XFVPo39lo8iU",
        "outputId": "5e05e1e6-ef21-4ca1-d36a-b314736bb5d2"
      },
      "execution_count": null,
      "outputs": [
        {
          "output_type": "stream",
          "name": "stdout",
          "text": [
            "Mounted at /content/drive\n"
          ]
        }
      ]
    },
    {
      "cell_type": "code",
      "source": [
        "copyfile(\"immV.pkl\",\"drive/MyDrive/immV.pkl\")\n",
        "copyfile(\"segV.pkl\",\"drive/MyDrive/segV.pkl\")"
      ],
      "metadata": {
        "id": "SSjKWb5fXdUJ",
        "colab": {
          "base_uri": "https://localhost:8080/",
          "height": 36
        },
        "outputId": "f99e9f8f-3566-4660-dd86-ecc25e252270"
      },
      "execution_count": null,
      "outputs": [
        {
          "output_type": "execute_result",
          "data": {
            "text/plain": [
              "'drive/MyDrive/segV.pkl'"
            ],
            "application/vnd.google.colaboratory.intrinsic+json": {
              "type": "string"
            }
          },
          "metadata": {},
          "execution_count": 67
        }
      ]
    },
    {
      "cell_type": "markdown",
      "source": [
        "# Riprendi da qui"
      ],
      "metadata": {
        "id": "qDt2xXoSU4-x"
      }
    },
    {
      "cell_type": "code",
      "source": [
        "!gdown 1SlHAQdHZlaAB41ywVnoYa9yOr51myE5w&confirm=t\n",
        "!gdown 16DlqnS2j11Tls09M8HgVOPsn6BRNVqP8&confirm=t"
      ],
      "metadata": {
        "colab": {
          "base_uri": "https://localhost:8080/"
        },
        "id": "PSWKP0TrYGEF",
        "outputId": "bab5be60-b3b6-4377-ac74-34b12777221d"
      },
      "execution_count": null,
      "outputs": [
        {
          "output_type": "stream",
          "name": "stdout",
          "text": [
            "Downloading...\n",
            "From: https://drive.google.com/uc?id=1SlHAQdHZlaAB41ywVnoYa9yOr51myE5w\n",
            "To: /content/immV.pkl\n",
            "100% 887M/887M [00:11<00:00, 79.4MB/s]\n",
            "Downloading...\n",
            "From: https://drive.google.com/uc?id=16DlqnS2j11Tls09M8HgVOPsn6BRNVqP8\n",
            "To: /content/segV.pkl\n",
            "100% 222M/222M [00:02<00:00, 97.2MB/s]\n"
          ]
        }
      ]
    },
    {
      "cell_type": "code",
      "source": [
        "# Open the file in binary mode\n",
        "with open('immV.pkl', 'rb') as file:\n",
        "      \n",
        "    # Call load method to deserialze\n",
        "    immV = pickle.load(file)\n",
        "\n",
        "with open('segV.pkl', 'rb') as file:\n",
        "      \n",
        "    # Call load method to deserialze\n",
        "    segV = pickle.load(file)"
      ],
      "metadata": {
        "id": "pFpF6RsaU_s4"
      },
      "execution_count": null,
      "outputs": []
    },
    {
      "cell_type": "code",
      "source": [
        "import tensorflow as tf"
      ],
      "metadata": {
        "id": "Veebk3EP3mBW"
      },
      "execution_count": null,
      "outputs": []
    },
    {
      "cell_type": "code",
      "source": [
        "nChan = 4\n",
        "\n",
        "lowRam = 50\n",
        "\n",
        "zeros = np.zeros((lowRam,128,128,77,nChan),dtype=np.float32)\n",
        "mask = np.zeros((lowRam,128,128,77,1),dtype=np.float32)\n",
        "\n",
        "minimo = immV.min()\n",
        "\n",
        "zeros = np.clip(zeros, minimo,minimo)\n",
        "\n",
        "zeros[:,:120,:120,:,:] = immV[:lowRam]\n",
        "del immV\n",
        "mask[:,:120,:120,:,:] = segV[:lowRam]\n",
        "del segV\n",
        "\n",
        "mask[mask>3.5]=3\n",
        "mask = tf.keras.utils.to_categorical(mask)"
      ],
      "metadata": {
        "id": "P3gE6dHPowgF"
      },
      "execution_count": null,
      "outputs": []
    },
    {
      "cell_type": "code",
      "execution_count": null,
      "metadata": {
        "id": "fuppieFld5yQ"
      },
      "outputs": [],
      "source": [
        "from sklearn.model_selection import train_test_split\n",
        "X_train, X_test, y_train, y_test = train_test_split(zeros, mask, test_size=0.33, random_state=42)"
      ]
    },
    {
      "cell_type": "code",
      "source": [
        "del zeros\n",
        "del mask"
      ],
      "metadata": {
        "id": "LS1vhaVGbQzl"
      },
      "execution_count": null,
      "outputs": []
    },
    {
      "cell_type": "code",
      "source": [
        "print(X_train.shape)\n",
        "print(y_train.shape)\n",
        "print(X_test.shape)\n",
        "print(y_test.shape)"
      ],
      "metadata": {
        "colab": {
          "base_uri": "https://localhost:8080/"
        },
        "id": "RAQkR5KQcvmn",
        "outputId": "cf6d0ec5-d743-428a-ecb6-e08300fbddce"
      },
      "execution_count": null,
      "outputs": [
        {
          "output_type": "stream",
          "name": "stdout",
          "text": [
            "(33, 128, 128, 77, 4)\n",
            "(33, 128, 128, 77, 4)\n",
            "(17, 128, 128, 77, 4)\n",
            "(17, 128, 128, 77, 4)\n"
          ]
        }
      ]
    },
    {
      "cell_type": "code",
      "execution_count": null,
      "metadata": {
        "id": "SdXzh4Y7d5yQ"
      },
      "outputs": [],
      "source": [
        "X_train = X_train.transpose((0,3,1,2,4))\n",
        "X_train = X_train.reshape((-1,128,128,4))\n",
        "y_train = y_train.transpose((0,3,1,2,4))\n",
        "y_train = y_train.reshape((-1,128,128,4))\n",
        "\n",
        "X_test = X_test.transpose((0,3,1,2,4))\n",
        "X_test = X_test.reshape((-1,128,128,4))\n",
        "y_test = y_test.transpose((0,3,1,2,4))\n",
        "y_test = y_test.reshape((-1,128,128,4))"
      ]
    },
    {
      "cell_type": "code",
      "source": [
        "print(X_train.shape)\n",
        "print(y_train.shape)\n",
        "print(X_test.shape)\n",
        "print(y_test.shape)"
      ],
      "metadata": {
        "colab": {
          "base_uri": "https://localhost:8080/"
        },
        "id": "Gif4zcjgbTBs",
        "outputId": "4e5ae6c4-4ccb-44f6-8893-558b91319c46"
      },
      "execution_count": null,
      "outputs": [
        {
          "output_type": "stream",
          "name": "stdout",
          "text": [
            "(2541, 128, 128, 4)\n",
            "(2541, 128, 128, 4)\n",
            "(1309, 128, 128, 4)\n",
            "(1309, 128, 128, 4)\n"
          ]
        }
      ]
    },
    {
      "cell_type": "markdown",
      "metadata": {
        "id": "IHJePNaacQOb"
      },
      "source": [
        "# Normal U-NET\n",
        "\n",
        "Create a U-NET, in the most plain-vanilla configuration.\n",
        "\n",
        "Notice how we create the \"concatenation\" between \"encoder\" and \"decoder\" layers"
      ]
    },
    {
      "cell_type": "code",
      "source": [
        "from tensorflow.keras.layers import Input, Conv2D, UpSampling2D, concatenate, MaxPooling2D\n",
        "from tensorflow.keras import Model"
      ],
      "metadata": {
        "id": "pxApzXG3mg6y"
      },
      "execution_count": null,
      "outputs": []
    },
    {
      "cell_type": "code",
      "execution_count": null,
      "metadata": {
        "id": "n4QVJXCfcQOb"
      },
      "outputs": [],
      "source": [
        "inputL = Input([X_train.shape[1],X_train.shape[2],nChan])\n",
        "## Encoder section\n",
        "# 120x120 resolution layers\n",
        "c1 = Conv2D(16,3,activation='relu',padding='same') (inputL)\n",
        "c2 = Conv2D(16,3,activation='relu',padding='same') (c1)\n",
        "\n",
        "c3 = MaxPooling2D() (c2) # 60x60\n",
        "c4 = Conv2D(32,3,activation='relu',padding='same') (c3)\n",
        "c5 = Conv2D(32,3,activation='relu',padding='same') (c4)\n",
        "\n",
        "c6 = MaxPooling2D() (c5) #30x30\n",
        "c7 = Conv2D(64,3,activation='relu',padding='same') (c6)\n",
        "c8 = Conv2D(64,3,activation='relu',padding='same') (c7)\n",
        "\n",
        "c9 = MaxPooling2D() (c8) #15x15\n",
        "## Bridge\n",
        "# \"low resolution\" high abstraction layer\n",
        "c10 = Conv2D(128,3,activation='relu',padding='same') (c9)\n",
        "c11 = Conv2D(128,3,activation='relu',padding='same') (c10)\n",
        "c12 = Conv2D(128,3,activation='relu',padding='same') (c11)\n",
        "c13 = UpSampling2D() (c12) #30x30\n",
        "\n",
        "## \"Decoder\" network\n",
        "# upsample the output and concatenate it to the encoder layer at the same resolution\n",
        "c14 = concatenate([c13,c8])\n",
        "c15 = Conv2D(64,3,activation='relu',padding='same') (c14)\n",
        "c16 = Conv2D(64,3,activation='relu',padding='same') (c15)\n",
        "\n",
        "c17 = UpSampling2D() (c16) #60x60\n",
        "c18 = concatenate([c17,c5])\n",
        "c19 = Conv2D(32,3,activation='relu',padding='same') (c18)\n",
        "c20 = Conv2D(32,3,activation='relu',padding='same') (c19)\n",
        "\n",
        "c21 = UpSampling2D() (c20) #120x120\n",
        "c22 = concatenate([c21,c2])\n",
        "c23 = Conv2D(16,3,activation='relu',padding='same') (c22)\n",
        "c24 = Conv2D(16,3,activation='relu',padding='same') (c23)\n",
        "\n",
        "# Output layer. We have 4 classes as output (0: background + 3 types of tumor)\n",
        "# Therefore we use a softmax activation and 4 channels of output\n",
        "outL = Conv2D(4,3,activation='softmax',padding='same')(c24)\n",
        "model = Model(inputs=inputL,outputs=outL)"
      ]
    },
    {
      "cell_type": "code",
      "execution_count": null,
      "metadata": {
        "scrolled": false,
        "id": "O9RDhFq7cQOc",
        "outputId": "9ce98593-b1ef-4fd0-8320-a7bd295f4019",
        "colab": {
          "base_uri": "https://localhost:8080/"
        }
      },
      "outputs": [
        {
          "output_type": "stream",
          "name": "stdout",
          "text": [
            "Model: \"model_1\"\n",
            "__________________________________________________________________________________________________\n",
            " Layer (type)                   Output Shape         Param #     Connected to                     \n",
            "==================================================================================================\n",
            " input_2 (InputLayer)           [(None, 128, 128, 4  0           []                               \n",
            "                                )]                                                                \n",
            "                                                                                                  \n",
            " conv2d_16 (Conv2D)             (None, 128, 128, 16  592         ['input_2[0][0]']                \n",
            "                                )                                                                 \n",
            "                                                                                                  \n",
            " conv2d_17 (Conv2D)             (None, 128, 128, 16  2320        ['conv2d_16[0][0]']              \n",
            "                                )                                                                 \n",
            "                                                                                                  \n",
            " max_pooling2d_3 (MaxPooling2D)  (None, 64, 64, 16)  0           ['conv2d_17[0][0]']              \n",
            "                                                                                                  \n",
            " conv2d_18 (Conv2D)             (None, 64, 64, 32)   4640        ['max_pooling2d_3[0][0]']        \n",
            "                                                                                                  \n",
            " conv2d_19 (Conv2D)             (None, 64, 64, 32)   9248        ['conv2d_18[0][0]']              \n",
            "                                                                                                  \n",
            " max_pooling2d_4 (MaxPooling2D)  (None, 32, 32, 32)  0           ['conv2d_19[0][0]']              \n",
            "                                                                                                  \n",
            " conv2d_20 (Conv2D)             (None, 32, 32, 64)   18496       ['max_pooling2d_4[0][0]']        \n",
            "                                                                                                  \n",
            " conv2d_21 (Conv2D)             (None, 32, 32, 64)   36928       ['conv2d_20[0][0]']              \n",
            "                                                                                                  \n",
            " max_pooling2d_5 (MaxPooling2D)  (None, 16, 16, 64)  0           ['conv2d_21[0][0]']              \n",
            "                                                                                                  \n",
            " conv2d_22 (Conv2D)             (None, 16, 16, 128)  73856       ['max_pooling2d_5[0][0]']        \n",
            "                                                                                                  \n",
            " conv2d_23 (Conv2D)             (None, 16, 16, 128)  147584      ['conv2d_22[0][0]']              \n",
            "                                                                                                  \n",
            " conv2d_24 (Conv2D)             (None, 16, 16, 128)  147584      ['conv2d_23[0][0]']              \n",
            "                                                                                                  \n",
            " up_sampling2d_3 (UpSampling2D)  (None, 32, 32, 128)  0          ['conv2d_24[0][0]']              \n",
            "                                                                                                  \n",
            " concatenate_3 (Concatenate)    (None, 32, 32, 192)  0           ['up_sampling2d_3[0][0]',        \n",
            "                                                                  'conv2d_21[0][0]']              \n",
            "                                                                                                  \n",
            " conv2d_25 (Conv2D)             (None, 32, 32, 64)   110656      ['concatenate_3[0][0]']          \n",
            "                                                                                                  \n",
            " conv2d_26 (Conv2D)             (None, 32, 32, 64)   36928       ['conv2d_25[0][0]']              \n",
            "                                                                                                  \n",
            " up_sampling2d_4 (UpSampling2D)  (None, 64, 64, 64)  0           ['conv2d_26[0][0]']              \n",
            "                                                                                                  \n",
            " concatenate_4 (Concatenate)    (None, 64, 64, 96)   0           ['up_sampling2d_4[0][0]',        \n",
            "                                                                  'conv2d_19[0][0]']              \n",
            "                                                                                                  \n",
            " conv2d_27 (Conv2D)             (None, 64, 64, 32)   27680       ['concatenate_4[0][0]']          \n",
            "                                                                                                  \n",
            " conv2d_28 (Conv2D)             (None, 64, 64, 32)   9248        ['conv2d_27[0][0]']              \n",
            "                                                                                                  \n",
            " up_sampling2d_5 (UpSampling2D)  (None, 128, 128, 32  0          ['conv2d_28[0][0]']              \n",
            "                                )                                                                 \n",
            "                                                                                                  \n",
            " concatenate_5 (Concatenate)    (None, 128, 128, 48  0           ['up_sampling2d_5[0][0]',        \n",
            "                                )                                 'conv2d_17[0][0]']              \n",
            "                                                                                                  \n",
            " conv2d_29 (Conv2D)             (None, 128, 128, 16  6928        ['concatenate_5[0][0]']          \n",
            "                                )                                                                 \n",
            "                                                                                                  \n",
            " conv2d_30 (Conv2D)             (None, 128, 128, 16  2320        ['conv2d_29[0][0]']              \n",
            "                                )                                                                 \n",
            "                                                                                                  \n",
            " conv2d_31 (Conv2D)             (None, 128, 128, 4)  580         ['conv2d_30[0][0]']              \n",
            "                                                                                                  \n",
            "==================================================================================================\n",
            "Total params: 635,588\n",
            "Trainable params: 635,588\n",
            "Non-trainable params: 0\n",
            "__________________________________________________________________________________________________\n"
          ]
        }
      ],
      "source": [
        "model.summary()"
      ]
    },
    {
      "cell_type": "markdown",
      "metadata": {
        "id": "J3oXjVS5cQOc"
      },
      "source": [
        "### Define the \"dice accuracy\" metric\n",
        "\n",
        "We compute the dice metric, but only for the classes of interest (the background is very large so the dice is generally almost always >99.9%)"
      ]
    },
    {
      "cell_type": "code",
      "execution_count": null,
      "metadata": {
        "id": "jEsnLzoYkk_0"
      },
      "outputs": [],
      "source": [
        "from tensorflow.python.ops import math_ops\n",
        "def dice_accuracy(y_true, y_pred):\n",
        "\n",
        "  y_true = math_ops.cast(y_true[:,:,:,1:] > 0.5, y_pred.dtype)\n",
        "  y_pred = math_ops.cast(y_pred[:,:,:,1:] > 0.5, y_pred.dtype)\n",
        "  intersec = y_true*y_pred\n",
        "  union = y_true+y_pred\n",
        "#  print(K.sum(intersec,axis=[1,2]))\n",
        "  dicePat = (1+2*K.sum(intersec,axis=[1,2]))/(1+K.sum(union,axis=[1,2]))\n",
        "#  print(dicePat.eval)\n",
        "  return K.mean(dicePat)\n",
        "  "
      ]
    },
    {
      "cell_type": "markdown",
      "metadata": {
        "id": "MVTlhXwycQOc"
      },
      "source": [
        "### Define the optimizer and compile the model"
      ]
    },
    {
      "cell_type": "code",
      "execution_count": null,
      "metadata": {
        "id": "NiMDpdD2cQOc"
      },
      "outputs": [],
      "source": [
        "optim = optimizers.Adam(learning_rate=1e-3)\n",
        "model.compile(optimizer=optim,loss='categorical_crossentropy',metrics= [dice_accuracy])"
      ]
    },
    {
      "cell_type": "markdown",
      "metadata": {
        "id": "w7Ucb6qvcQOc"
      },
      "source": [
        "#### Fit the model"
      ]
    },
    {
      "cell_type": "code",
      "execution_count": null,
      "metadata": {
        "id": "yBdGI5locQOc",
        "outputId": "d173f946-4bc4-47ab-c35c-93cd81e05e18",
        "colab": {
          "base_uri": "https://localhost:8080/"
        }
      },
      "outputs": [
        {
          "output_type": "stream",
          "name": "stdout",
          "text": [
            "Epoch 1/60\n",
            "182/182 [==============================] - 14s 51ms/step - loss: 0.0755 - dice_accuracy: 0.6737 - val_loss: 0.0214 - val_dice_accuracy: 0.7383\n",
            "Epoch 2/60\n",
            "182/182 [==============================] - 7s 41ms/step - loss: 0.0279 - dice_accuracy: 0.6953 - val_loss: 0.0192 - val_dice_accuracy: 0.7549\n",
            "Epoch 3/60\n",
            "182/182 [==============================] - 8s 43ms/step - loss: 0.0213 - dice_accuracy: 0.7429 - val_loss: 0.0145 - val_dice_accuracy: 0.8050\n",
            "Epoch 4/60\n",
            "182/182 [==============================] - 8s 42ms/step - loss: 0.0191 - dice_accuracy: 0.7697 - val_loss: 0.0141 - val_dice_accuracy: 0.8102\n",
            "Epoch 5/60\n",
            "182/182 [==============================] - 8s 43ms/step - loss: 0.0161 - dice_accuracy: 0.7957 - val_loss: 0.0154 - val_dice_accuracy: 0.7861\n",
            "Epoch 6/60\n",
            "182/182 [==============================] - 8s 43ms/step - loss: 0.0149 - dice_accuracy: 0.8086 - val_loss: 0.0137 - val_dice_accuracy: 0.8114\n",
            "Epoch 7/60\n",
            "182/182 [==============================] - 8s 43ms/step - loss: 0.0137 - dice_accuracy: 0.8187 - val_loss: 0.0126 - val_dice_accuracy: 0.8195\n",
            "Epoch 8/60\n",
            "182/182 [==============================] - 8s 43ms/step - loss: 0.0119 - dice_accuracy: 0.8342 - val_loss: 0.0126 - val_dice_accuracy: 0.8200\n",
            "Epoch 9/60\n",
            "182/182 [==============================] - 8s 44ms/step - loss: 0.0107 - dice_accuracy: 0.8444 - val_loss: 0.0125 - val_dice_accuracy: 0.8174\n",
            "Epoch 10/60\n",
            "182/182 [==============================] - 8s 43ms/step - loss: 0.0092 - dice_accuracy: 0.8582 - val_loss: 0.0132 - val_dice_accuracy: 0.8192\n",
            "Epoch 11/60\n",
            "182/182 [==============================] - 8s 43ms/step - loss: 0.0086 - dice_accuracy: 0.8668 - val_loss: 0.0134 - val_dice_accuracy: 0.8153\n",
            "Epoch 12/60\n",
            "182/182 [==============================] - 8s 44ms/step - loss: 0.0073 - dice_accuracy: 0.8801 - val_loss: 0.0125 - val_dice_accuracy: 0.8297\n",
            "Epoch 13/60\n",
            "182/182 [==============================] - 8s 43ms/step - loss: 0.0069 - dice_accuracy: 0.8839 - val_loss: 0.0128 - val_dice_accuracy: 0.8363\n",
            "Epoch 14/60\n",
            "182/182 [==============================] - 8s 42ms/step - loss: 0.0066 - dice_accuracy: 0.8885 - val_loss: 0.0137 - val_dice_accuracy: 0.8306\n",
            "Epoch 15/60\n",
            "182/182 [==============================] - 8s 43ms/step - loss: 0.0063 - dice_accuracy: 0.8927 - val_loss: 0.0141 - val_dice_accuracy: 0.8231\n",
            "Epoch 16/60\n",
            "182/182 [==============================] - 8s 42ms/step - loss: 0.0060 - dice_accuracy: 0.8962 - val_loss: 0.0132 - val_dice_accuracy: 0.8353\n",
            "Epoch 17/60\n",
            "182/182 [==============================] - 8s 43ms/step - loss: 0.0070 - dice_accuracy: 0.8871 - val_loss: 0.0150 - val_dice_accuracy: 0.8200\n",
            "Epoch 18/60\n",
            "182/182 [==============================] - 8s 42ms/step - loss: 0.0056 - dice_accuracy: 0.9064 - val_loss: 0.0130 - val_dice_accuracy: 0.8413\n",
            "Epoch 19/60\n",
            "182/182 [==============================] - 8s 43ms/step - loss: 0.0051 - dice_accuracy: 0.9124 - val_loss: 0.0130 - val_dice_accuracy: 0.8424\n",
            "Epoch 20/60\n",
            "182/182 [==============================] - 8s 43ms/step - loss: 0.0052 - dice_accuracy: 0.9111 - val_loss: 0.0144 - val_dice_accuracy: 0.8372\n",
            "Epoch 21/60\n",
            "182/182 [==============================] - 8s 43ms/step - loss: 0.0050 - dice_accuracy: 0.9158 - val_loss: 0.0140 - val_dice_accuracy: 0.8325\n",
            "Epoch 22/60\n",
            "182/182 [==============================] - 8s 43ms/step - loss: 0.0046 - dice_accuracy: 0.9227 - val_loss: 0.0145 - val_dice_accuracy: 0.8368\n",
            "Epoch 23/60\n",
            "182/182 [==============================] - 8s 43ms/step - loss: 0.0045 - dice_accuracy: 0.9219 - val_loss: 0.0134 - val_dice_accuracy: 0.8298\n",
            "Epoch 24/60\n",
            "182/182 [==============================] - 8s 43ms/step - loss: 0.0045 - dice_accuracy: 0.9230 - val_loss: 0.0148 - val_dice_accuracy: 0.8328\n",
            "Epoch 25/60\n",
            "182/182 [==============================] - 8s 43ms/step - loss: 0.0047 - dice_accuracy: 0.9186 - val_loss: 0.0153 - val_dice_accuracy: 0.8204\n",
            "Epoch 26/60\n",
            "182/182 [==============================] - 8s 43ms/step - loss: 0.0090 - dice_accuracy: 0.8834 - val_loss: 0.0134 - val_dice_accuracy: 0.7964\n",
            "Epoch 27/60\n",
            "182/182 [==============================] - 8s 42ms/step - loss: 0.0097 - dice_accuracy: 0.8544 - val_loss: 0.0147 - val_dice_accuracy: 0.8327\n",
            "Epoch 28/60\n",
            "182/182 [==============================] - 8s 43ms/step - loss: 0.0057 - dice_accuracy: 0.9029 - val_loss: 0.0131 - val_dice_accuracy: 0.8328\n",
            "Epoch 29/60\n",
            "182/182 [==============================] - 8s 43ms/step - loss: 0.0047 - dice_accuracy: 0.9199 - val_loss: 0.0142 - val_dice_accuracy: 0.8359\n",
            "Epoch 30/60\n",
            "182/182 [==============================] - 8s 44ms/step - loss: 0.0048 - dice_accuracy: 0.9197 - val_loss: 0.0144 - val_dice_accuracy: 0.8346\n",
            "Epoch 31/60\n",
            "182/182 [==============================] - 8s 43ms/step - loss: 0.0043 - dice_accuracy: 0.9262 - val_loss: 0.0147 - val_dice_accuracy: 0.8374\n",
            "Epoch 32/60\n",
            "182/182 [==============================] - 8s 42ms/step - loss: 0.0039 - dice_accuracy: 0.9317 - val_loss: 0.0159 - val_dice_accuracy: 0.8355\n",
            "Epoch 33/60\n",
            "182/182 [==============================] - 8s 42ms/step - loss: 0.0039 - dice_accuracy: 0.9347 - val_loss: 0.0142 - val_dice_accuracy: 0.8387\n",
            "Epoch 34/60\n",
            "182/182 [==============================] - 8s 43ms/step - loss: 0.0037 - dice_accuracy: 0.9374 - val_loss: 0.0154 - val_dice_accuracy: 0.8298\n",
            "Epoch 35/60\n",
            "182/182 [==============================] - 8s 42ms/step - loss: 0.0036 - dice_accuracy: 0.9387 - val_loss: 0.0157 - val_dice_accuracy: 0.8381\n",
            "Epoch 36/60\n",
            "182/182 [==============================] - 8s 42ms/step - loss: 0.0037 - dice_accuracy: 0.9382 - val_loss: 0.0156 - val_dice_accuracy: 0.8286\n",
            "Epoch 37/60\n",
            "182/182 [==============================] - 8s 42ms/step - loss: 0.0036 - dice_accuracy: 0.9393 - val_loss: 0.0155 - val_dice_accuracy: 0.8251\n",
            "Epoch 38/60\n",
            "182/182 [==============================] - 8s 45ms/step - loss: 0.0035 - dice_accuracy: 0.9405 - val_loss: 0.0161 - val_dice_accuracy: 0.8242\n",
            "Epoch 39/60\n",
            "182/182 [==============================] - 8s 43ms/step - loss: 0.0035 - dice_accuracy: 0.9407 - val_loss: 0.0153 - val_dice_accuracy: 0.8267\n",
            "Epoch 40/60\n",
            "182/182 [==============================] - 8s 43ms/step - loss: 0.0044 - dice_accuracy: 0.9258 - val_loss: 0.0142 - val_dice_accuracy: 0.8249\n",
            "Epoch 41/60\n",
            "182/182 [==============================] - 9s 52ms/step - loss: 0.0039 - dice_accuracy: 0.9331 - val_loss: 0.0147 - val_dice_accuracy: 0.8218\n",
            "Epoch 42/60\n",
            "182/182 [==============================] - 9s 51ms/step - loss: 0.0035 - dice_accuracy: 0.9401 - val_loss: 0.0161 - val_dice_accuracy: 0.8291\n",
            "Epoch 43/60\n",
            "182/182 [==============================] - 9s 48ms/step - loss: 0.0034 - dice_accuracy: 0.9429 - val_loss: 0.0162 - val_dice_accuracy: 0.8328\n",
            "Epoch 44/60\n",
            "182/182 [==============================] - 8s 46ms/step - loss: 0.0034 - dice_accuracy: 0.9443 - val_loss: 0.0181 - val_dice_accuracy: 0.8294\n",
            "Epoch 45/60\n",
            "182/182 [==============================] - 8s 43ms/step - loss: 0.0032 - dice_accuracy: 0.9457 - val_loss: 0.0170 - val_dice_accuracy: 0.8349\n",
            "Epoch 46/60\n",
            "182/182 [==============================] - 8s 42ms/step - loss: 0.0034 - dice_accuracy: 0.9424 - val_loss: 0.0165 - val_dice_accuracy: 0.8217\n",
            "Epoch 47/60\n",
            "182/182 [==============================] - 8s 42ms/step - loss: 0.0062 - dice_accuracy: 0.8992 - val_loss: 0.0171 - val_dice_accuracy: 0.8001\n",
            "Epoch 48/60\n",
            "182/182 [==============================] - 8s 43ms/step - loss: 0.0043 - dice_accuracy: 0.9299 - val_loss: 0.0167 - val_dice_accuracy: 0.8345\n",
            "Epoch 49/60\n",
            "182/182 [==============================] - 8s 42ms/step - loss: 0.0032 - dice_accuracy: 0.9444 - val_loss: 0.0168 - val_dice_accuracy: 0.8394\n",
            "Epoch 50/60\n",
            "182/182 [==============================] - 8s 42ms/step - loss: 0.0029 - dice_accuracy: 0.9494 - val_loss: 0.0165 - val_dice_accuracy: 0.8340\n",
            "Epoch 51/60\n",
            "182/182 [==============================] - 8s 42ms/step - loss: 0.0028 - dice_accuracy: 0.9519 - val_loss: 0.0167 - val_dice_accuracy: 0.8338\n",
            "Epoch 52/60\n",
            "182/182 [==============================] - 8s 43ms/step - loss: 0.0028 - dice_accuracy: 0.9508 - val_loss: 0.0170 - val_dice_accuracy: 0.8367\n",
            "Epoch 53/60\n",
            "182/182 [==============================] - 8s 43ms/step - loss: 0.0028 - dice_accuracy: 0.9515 - val_loss: 0.0178 - val_dice_accuracy: 0.8302\n",
            "Epoch 54/60\n",
            "182/182 [==============================] - 8s 44ms/step - loss: 0.0028 - dice_accuracy: 0.9521 - val_loss: 0.0179 - val_dice_accuracy: 0.8304\n",
            "Epoch 55/60\n",
            "182/182 [==============================] - 8s 42ms/step - loss: 0.0028 - dice_accuracy: 0.9524 - val_loss: 0.0170 - val_dice_accuracy: 0.8313\n",
            "Epoch 56/60\n",
            "182/182 [==============================] - 8s 43ms/step - loss: 0.0028 - dice_accuracy: 0.9514 - val_loss: 0.0184 - val_dice_accuracy: 0.8354\n",
            "Epoch 57/60\n",
            "182/182 [==============================] - 8s 43ms/step - loss: 0.0029 - dice_accuracy: 0.9508 - val_loss: 0.0181 - val_dice_accuracy: 0.8325\n",
            "Epoch 58/60\n",
            "182/182 [==============================] - 8s 44ms/step - loss: 0.0028 - dice_accuracy: 0.9522 - val_loss: 0.0207 - val_dice_accuracy: 0.8299\n",
            "Epoch 59/60\n",
            "182/182 [==============================] - 8s 43ms/step - loss: 0.0030 - dice_accuracy: 0.9492 - val_loss: 0.0179 - val_dice_accuracy: 0.8267\n",
            "Epoch 60/60\n",
            "182/182 [==============================] - 8s 42ms/step - loss: 0.0028 - dice_accuracy: 0.9527 - val_loss: 0.0175 - val_dice_accuracy: 0.8322\n"
          ]
        }
      ],
      "source": [
        "fitHist = model.fit(X_train,y_train,validation_data=(X_test,y_test),batch_size=14,epochs=60)"
      ]
    },
    {
      "cell_type": "markdown",
      "metadata": {
        "id": "pdozrYOWcQOc"
      },
      "source": [
        "### Plot the fitting history metrics"
      ]
    },
    {
      "cell_type": "code",
      "source": [
        "pd.DataFrame.from_dict(fitHist.history).to_csv(\"unet_hist.csv\")"
      ],
      "metadata": {
        "id": "fbnxj2Oypr9o"
      },
      "execution_count": null,
      "outputs": []
    },
    {
      "cell_type": "code",
      "execution_count": null,
      "metadata": {
        "id": "dt1cQ5S4cQOc",
        "outputId": "e37ed398-04a5-4909-9247-75df0734b3e0",
        "colab": {
          "base_uri": "https://localhost:8080/",
          "height": 360
        }
      },
      "outputs": [
        {
          "output_type": "execute_result",
          "data": {
            "text/plain": [
              "[<matplotlib.lines.Line2D at 0x7f82dc138ca0>]"
            ]
          },
          "metadata": {},
          "execution_count": 31
        },
        {
          "output_type": "display_data",
          "data": {
            "text/plain": [
              "<Figure size 1200x600 with 2 Axes>"
            ],
            "image/png": "[encoded data removed]"
          },
          "metadata": {}
        }
      ],
      "source": [
        "plt.figure(figsize=(12,6))\n",
        "plt.subplot(121)\n",
        "plt.plot(fitHist.history['loss'])\n",
        "plt.plot(fitHist.history['val_loss'])\n",
        "plt.subplot(122)\n",
        "plt.plot(fitHist.history['dice_accuracy'])\n",
        "plt.plot(fitHist.history['val_dice_accuracy'])\n"
      ]
    },
    {
      "cell_type": "markdown",
      "metadata": {
        "id": "ZRSLfzj4cQOd"
      },
      "source": [
        "## Compute DICE scores in BRATS categories:\n",
        "\n",
        "BRATS computes dice scores on \n",
        "1. Whole tumor (1+2+4)\n",
        "2. Core (2+4)\n",
        "3. Active (4)\n",
        "\n",
        "Remember we renamed 4 as 3\n"
      ]
    },
    {
      "cell_type": "code",
      "execution_count": null,
      "metadata": {
        "id": "Rda-qTPlcQOd"
      },
      "outputs": [],
      "source": [
        "def diceFromMap(map1,map2):\n",
        "    unionLab = np.sum(map1) +np.sum(map2)\n",
        "    interLab = np.sum(map1 & map2, dtype=np.float32)\n",
        "    return (2*interLab+.1)/(unionLab+.1)\n",
        "def computeDices (yPred,yTrue):\n",
        "    yPred = np.asarray(yPred)\n",
        "    yTrue = np.asarray(yTrue)\n",
        "    if np.sum(yTrue[:,:,:,1:])<1:\n",
        "        return(np.nan,np.nan,np.nan)\n",
        "    diceWhole = diceFromMap(np.sum(yPred[:,:,:,1:],axis=-1)>np.sum(yPred[:,:,:,:1],axis=-1),\n",
        "                            np.sum(yTrue[:,:,:,1:],axis=-1)>np.sum(yTrue[:,:,:,:1],axis=-1))\n",
        "    diceCore = diceFromMap(np.sum(yPred[:,:,:,2:],axis=-1)>np.sum(yPred[:,:,:,:2],axis=-1),\n",
        "                           np.sum(yTrue[:,:,:,2:],axis=-1)>np.sum(yTrue[:,:,:,:2],axis=-1))\n",
        "    diceEnh = diceFromMap(np.sum(yPred[:,:,:,3:],axis=-1)>np.sum(yPred[:,:,:,:3],axis=-1),\n",
        "                          np.sum(yTrue[:,:,:,3:],axis=-1)>np.sum(yTrue[:,:,:,:3],axis=-1))\n",
        "    return (diceWhole,diceCore,diceEnh)"
      ]
    },
    {
      "cell_type": "markdown",
      "metadata": {
        "id": "gF2aD4-ocQOd"
      },
      "source": [
        "We \"unstacked\" 77 slices for each subject. Therefore we can compute the following way the dice for each subject (and not for each slice, as it would be ill-defined)"
      ]
    },
    {
      "cell_type": "code",
      "execution_count": null,
      "metadata": {
        "id": "iOEmO84lcQOd"
      },
      "outputs": [],
      "source": [
        "nTestPat = 20\n",
        "diceV = np.zeros((20,3))\n",
        "for idx in range(20):\n",
        "    yPred = model(X_test[idx*77:(idx+1)*77,:,:,:])\n",
        "    diceV[idx,:]=np.array(computeDices(yPred,y_test[idx*77:(idx+1)*77,:,:,:]))"
      ]
    },
    {
      "cell_type": "code",
      "execution_count": null,
      "metadata": {
        "scrolled": true,
        "id": "pVjFxyYDcQOd",
        "outputId": "e8327e9a-caeb-4d39-e191-c57e76d5221a",
        "colab": {
          "base_uri": "https://localhost:8080/",
          "height": 327
        }
      },
      "outputs": [
        {
          "output_type": "stream",
          "name": "stdout",
          "text": [
            "Whole Dice: mean = nan% Median = nan%\n",
            "Core Dice: mean = nan% Median = nan%\n",
            "Active Dice: mean = nan% Median = nan%\n"
          ]
        },
        {
          "output_type": "display_data",
          "data": {
            "text/plain": [
              "<Figure size 900x300 with 3 Axes>"
            ],
            "image/png": "[encoded data removed]"
          },
          "metadata": {}
        }
      ],
      "source": [
        "plt.figure(figsize=(9,3))\n",
        "titleList = ['Whole','Core','Active']\n",
        "for i in range(3):\n",
        "    plt.subplot(1,3,i+1)\n",
        "    _=plt.hist(diceV[:,i])\n",
        "    plt.title(titleList[i])\n",
        "for i in range(3):\n",
        "    outStr = titleList[i] + ' Dice: mean = {:.1f}% Median = {:.1f}%'    \n",
        "    print(outStr.format(np.mean(diceV[:,i]*100),np.median(diceV[:,i]*100)))"
      ]
    },
    {
      "cell_type": "code",
      "source": [
        "model.save(\"unet.h5\")"
      ],
      "metadata": {
        "id": "6ZaD2x1lq2mC"
      },
      "execution_count": null,
      "outputs": []
    },
    {
      "cell_type": "code",
      "source": [],
      "metadata": {
        "id": "G2QMNffaq7-p"
      },
      "execution_count": null,
      "outputs": []
    }
  ]
}